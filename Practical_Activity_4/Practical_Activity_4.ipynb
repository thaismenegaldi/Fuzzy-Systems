{
 "cells": [
  {
   "cell_type": "markdown",
   "metadata": {},
   "source": [
    "### ELE075 - Sistemas Nebulosos\n",
    "**Aluna:** Thais Macela de Lira Menegaldi <br>\n",
    "**Matrícula**: 2017001702"
   ]
  },
  {
   "cell_type": "markdown",
   "metadata": {},
   "source": [
    "# Atividade Prática 4 - Classificação de Padrões"
   ]
  },
  {
   "cell_type": "code",
   "execution_count": 1,
   "metadata": {},
   "outputs": [],
   "source": [
    "# This library requires at least version 3.6.5 of Python\n",
    "# !pip install torch==1.0.1 torchvision==0.2.2\n",
    "# !git clone https://github.com/jfpower/anfis-pytorch"
   ]
  },
  {
   "cell_type": "code",
   "execution_count": 1,
   "metadata": {},
   "outputs": [],
   "source": [
    "import sys\n",
    "sys.path.insert(0, '../anfis-pytorch')\n",
    "import anfis\n",
    "from membership import *\n",
    "import experimental"
   ]
  },
  {
   "cell_type": "code",
   "execution_count": 2,
   "metadata": {},
   "outputs": [],
   "source": [
    "import os\n",
    "import torch\n",
    "import scipy.io \n",
    "import numpy as np\n",
    "import pandas as pd\n",
    "import seaborn as sns\n",
    "import matplotlib.pyplot as plt\n",
    "from sklearn.model_selection import train_test_split\n",
    "from torch.utils.data import TensorDataset, DataLoader\n",
    "from sklearn.metrics import accuracy_score\n",
    "from sklearn.metrics import classification_report, confusion_matrix\n",
    "\n",
    "plt.rcParams['figure.figsize'] = 12, 8\n",
    "plt.rcParams.update({'font.size': 12})"
   ]
  },
  {
   "cell_type": "markdown",
   "metadata": {},
   "source": [
    "A função `step(y, thresh)` foi implementada para modelar a saída do problema de regressão em uma saída para os problemas de classificação binária Iris e Breast Cancer. A fim de realizar essa mesma modelagem, a função de perda `BCEWithLogisticLoss` foi utilizada para o treinamento da rede ANFIS, uma vez que combina a função de perda `BCELoss` com a função sigmoide."
   ]
  },
  {
   "cell_type": "code",
   "execution_count": 4,
   "metadata": {},
   "outputs": [],
   "source": [
    "def step(y, thresh = 0.5):\n",
    "    \n",
    "    y[y >= thresh] = 1\n",
    "    y[y < thresh] = 0\n",
    "    \n",
    "    return y"
   ]
  },
  {
   "cell_type": "markdown",
   "metadata": {},
   "source": [
    "**`_iterate_validation_indices(m, idxs, K)`** <br>\n",
    "Esta função foi criada para selecionar a máscara booleana dos elementos que irão compor o conjunto de validação."
   ]
  },
  {
   "cell_type": "code",
   "execution_count": 5,
   "metadata": {},
   "outputs": [],
   "source": [
    "def _iterate_validation_indices(m, idxs, K):\n",
    "\n",
    "    folds_len = (m // K) * np.ones(K)\n",
    "    folds_len[:(m % K)] += 1\n",
    "    curr_fold = 0\n",
    "    \n",
    "    for fold in folds_len:\n",
    "        begin_fold = curr_fold\n",
    "        end_fold = curr_fold + fold\n",
    "        validation_idxs = idxs[int(begin_fold):int(end_fold)]\n",
    "        validation_filter = np.zeros(m, dtype=int)\n",
    "        validation_filter[validation_idxs] = True\n",
    "        yield validation_filter\n",
    "        curr_fold = end_fold"
   ]
  },
  {
   "cell_type": "markdown",
   "metadata": {},
   "source": [
    "**`get_folds_indices(X, Y, K):`** <br>\n",
    "Esta função foi criada para gerar os índices das partições dos subconjuntos (treino e validação) durante a validação cruzada."
   ]
  },
  {
   "cell_type": "code",
   "execution_count": 6,
   "metadata": {},
   "outputs": [],
   "source": [
    "def get_folds_indices(X, Y, K, random_state = 42):\n",
    "    \"\"\"\n",
    "    \"\"\"\n",
    "    m = X_train.shape[0]\n",
    "    idxs = np.arange(m)\n",
    "    \n",
    "    random_state = np.random.RandomState(random_state)\n",
    "    random_state.shuffle(idxs)\n",
    "    \n",
    "    for validation_filter in _iterate_validation_indices(m, idxs, K):\n",
    "        train_idx = idxs[np.logical_not(validation_filter)]\n",
    "        validation_filter = validation_filter > 0\n",
    "        validation_idx = idxs[validation_filter]\n",
    "        yield train_idx, validation_idx"
   ]
  },
  {
   "cell_type": "markdown",
   "metadata": {},
   "source": [
    "## Iris Dataset"
   ]
  },
  {
   "cell_type": "code",
   "execution_count": 7,
   "metadata": {},
   "outputs": [],
   "source": [
    "K = 3\n",
    "batch_size = 1024"
   ]
  },
  {
   "cell_type": "code",
   "execution_count": 8,
   "metadata": {},
   "outputs": [],
   "source": [
    "# Reading data\n",
    "file_path = os.path.abspath('./Iris.csv')\n",
    "data = pd.read_csv(file_path).drop(['Id'], axis=1)"
   ]
  },
  {
   "cell_type": "code",
   "execution_count": 9,
   "metadata": {},
   "outputs": [
    {
     "name": "stdout",
     "output_type": "stream",
     "text": [
      "X dim: torch.Size([150, 4])\n"
     ]
    }
   ],
   "source": [
    "# Input data (removing indexes and labels)\n",
    "X = torch.Tensor(data.iloc[:, :4].to_numpy())\n",
    "print('X dim:', X.shape)"
   ]
  },
  {
   "cell_type": "markdown",
   "metadata": {},
   "source": [
    "Tendo em vista que a proposta da classificação do conjunto de dados Iris é distinguir a espécie **Iris-setosa** das demais, foi feita a atribuição do *label* 0 para Iris-setosa e 1 tanto para Iris-versicolor quanto para Iris-virginica."
   ]
  },
  {
   "cell_type": "code",
   "execution_count": 10,
   "metadata": {},
   "outputs": [
    {
     "name": "stdout",
     "output_type": "stream",
     "text": [
      "Y dim: torch.Size([150])\n"
     ]
    }
   ],
   "source": [
    "# Para fins de simplificação, considere que o objetivo aqui é distinguir\n",
    "# a espécie iris-setosa (0) das outras duas espécies existentes (1)\n",
    "Y = data['Species'].replace({'Iris-setosa': 0, \n",
    "                             'Iris-versicolor': 1, \n",
    "                             'Iris-virginica': 2})\n",
    "Y = torch.Tensor(Y)\n",
    "print('Y dim:', Y.shape)"
   ]
  },
  {
   "cell_type": "markdown",
   "metadata": {},
   "source": [
    "O dataset utilizado foi divido em 70% para o conjunto de treinamento e 30% para o conjunto de teste. O desempenho do modelo foi mensurado pela acurácia média em *K* folds."
   ]
  },
  {
   "cell_type": "code",
   "execution_count": 11,
   "metadata": {
    "scrolled": true
   },
   "outputs": [],
   "source": [
    "X_train, X_test, Y_train, Y_test = train_test_split(X, Y, test_size = 0.3, random_state = 42)"
   ]
  },
  {
   "cell_type": "code",
   "execution_count": 12,
   "metadata": {
    "scrolled": true
   },
   "outputs": [
    {
     "name": "stdout",
     "output_type": "stream",
     "text": [
      "Num mfs:  3 \n",
      "\n",
      "torch.Size([70, 4]) torch.Size([70, 1])\n",
      "\n",
      "Train\n",
      "\n",
      "### Training for 3 epochs, training size = 70 cases\n",
      "epoch    0: MSE=0.15449, RMSE=0.39305 =inf%\n",
      "epoch    1: MSE=1.01929, RMSE=1.00960 =inf%\n",
      "epoch    2: MSE=9.20338, RMSE=3.03371 =inf%\n",
      "\n",
      "Test\n",
      "\n",
      "### Testing for 35 cases\n",
      "MS error=7.05896, RMS error=2.65687, percentage=inf%\n",
      "\n",
      "\n",
      " Accuracy:  0.6571428571428571\n",
      "\n",
      "\n",
      "\n",
      "\n",
      "torch.Size([70, 4]) torch.Size([70, 1])\n",
      "\n",
      "Train\n",
      "\n",
      "### Training for 3 epochs, training size = 70 cases\n",
      "epoch    0: MSE=0.22098, RMSE=0.47008 =inf%\n",
      "epoch    1: MSE=0.54568, RMSE=0.73870 =inf%\n",
      "epoch    2: MSE=5.57903, RMSE=2.36200 =inf%\n",
      "\n",
      "Test\n",
      "\n",
      "### Testing for 35 cases\n",
      "MS error=6.62567, RMS error=2.57404, percentage=inf%\n",
      "\n",
      "\n",
      " Accuracy:  0.6285714285714286\n",
      "\n",
      "\n",
      "\n",
      "\n",
      "torch.Size([70, 4]) torch.Size([70, 1])\n",
      "\n",
      "Train\n",
      "\n",
      "### Training for 3 epochs, training size = 70 cases\n",
      "epoch    0: MSE=0.18975, RMSE=0.43560 =inf%\n",
      "epoch    1: MSE=0.68191, RMSE=0.82578 =inf%\n",
      "epoch    2: MSE=5.55979, RMSE=2.35792 =inf%\n",
      "\n",
      "Test\n",
      "\n",
      "### Testing for 35 cases\n",
      "MS error=5.47393, RMS error=2.33964, percentage=inf%\n",
      "\n",
      "\n",
      " Accuracy:  0.6571428571428571\n",
      "\n",
      "\n",
      "\n",
      "\n",
      "Num mfs:  5 \n",
      "\n",
      "torch.Size([70, 4]) torch.Size([70, 1])\n",
      "\n",
      "Train\n",
      "\n",
      "### Training for 3 epochs, training size = 70 cases\n",
      "epoch    0: MSE=1.14223, RMSE=1.06875 =inf%\n",
      "epoch    1: MSE=0.57762, RMSE=0.76001 =inf%\n",
      "epoch    2: MSE=0.16728, RMSE=0.40900 =inf%\n",
      "\n",
      "Test\n",
      "\n",
      "### Testing for 35 cases\n",
      "MS error=0.24856, RMS error=0.49856, percentage=inf%\n",
      "\n",
      "\n",
      " Accuracy:  0.6\n",
      "\n",
      "\n",
      "\n",
      "\n",
      "torch.Size([70, 4]) torch.Size([70, 1])\n",
      "\n",
      "Train\n",
      "\n",
      "### Training for 3 epochs, training size = 70 cases\n",
      "epoch    0: MSE=1.14588, RMSE=1.07046 =inf%\n",
      "epoch    1: MSE=0.70226, RMSE=0.83801 =inf%\n",
      "epoch    2: MSE=0.33269, RMSE=0.57679 =inf%\n",
      "\n",
      "Test\n",
      "\n",
      "### Testing for 35 cases\n",
      "MS error=0.32687, RMS error=0.57173, percentage=inf%\n",
      "\n",
      "\n",
      " Accuracy:  0.5428571428571428\n",
      "\n",
      "\n",
      "\n",
      "\n",
      "torch.Size([70, 4]) torch.Size([70, 1])\n",
      "\n",
      "Train\n",
      "\n",
      "### Training for 3 epochs, training size = 70 cases\n",
      "epoch    0: MSE=1.14924, RMSE=1.07203 =inf%\n",
      "epoch    1: MSE=0.63681, RMSE=0.79801 =inf%\n",
      "epoch    2: MSE=0.23565, RMSE=0.48544 =inf%\n",
      "\n",
      "Test\n",
      "\n",
      "### Testing for 35 cases\n",
      "MS error=0.20851, RMS error=0.45663, percentage=inf%\n",
      "\n",
      "\n",
      " Accuracy:  0.5428571428571428\n",
      "\n",
      "\n",
      "\n",
      "\n",
      "Num mfs:  7 \n",
      "\n",
      "torch.Size([70, 4]) torch.Size([70, 1])\n",
      "\n",
      "Train\n",
      "\n",
      "### Training for 3 epochs, training size = 70 cases\n",
      "epoch    0: MSE=1.49781, RMSE=1.22385 =inf%\n",
      "epoch    1: MSE=1.17307, RMSE=1.08308 =inf%\n",
      "epoch    2: MSE=0.79608, RMSE=0.89223 =inf%\n",
      "\n",
      "Test\n",
      "\n",
      "### Testing for 35 cases\n",
      "MS error=0.88710, RMS error=0.94186, percentage=inf%\n",
      "\n",
      "\n",
      " Accuracy:  0.42857142857142855\n",
      "\n",
      "\n",
      "\n",
      "\n",
      "torch.Size([70, 4]) torch.Size([70, 1])\n",
      "\n",
      "Train\n",
      "\n",
      "### Training for 3 epochs, training size = 70 cases\n",
      "epoch    0: MSE=1.44258, RMSE=1.20108 =inf%\n",
      "epoch    1: MSE=1.21233, RMSE=1.10106 =inf%\n",
      "epoch    2: MSE=0.96957, RMSE=0.98467 =inf%\n",
      "\n",
      "Test\n",
      "\n",
      "### Testing for 35 cases\n",
      "MS error=1.07667, RMS error=1.03763, percentage=inf%\n",
      "\n",
      "\n",
      " Accuracy:  0.22857142857142856\n",
      "\n",
      "\n",
      "\n",
      "\n",
      "torch.Size([70, 4]) torch.Size([70, 1])\n",
      "\n",
      "Train\n",
      "\n",
      "### Training for 3 epochs, training size = 70 cases\n",
      "epoch    0: MSE=1.48479, RMSE=1.21852 =inf%\n",
      "epoch    1: MSE=1.20909, RMSE=1.09959 =inf%\n",
      "epoch    2: MSE=0.90338, RMSE=0.95046 =inf%\n",
      "\n",
      "Test\n",
      "\n",
      "### Testing for 35 cases\n",
      "MS error=0.90755, RMS error=0.95265, percentage=inf%\n",
      "\n",
      "\n",
      " Accuracy:  0.2857142857142857\n",
      "\n",
      "\n",
      "\n",
      "\n",
      "Num mfs:  9 \n",
      "\n",
      "torch.Size([70, 4]) torch.Size([70, 1])\n",
      "\n",
      "Train\n",
      "\n",
      "### Training for 3 epochs, training size = 70 cases\n",
      "epoch    0: MSE=1.63985, RMSE=1.28057 =inf%\n",
      "epoch    1: MSE=1.44879, RMSE=1.20366 =inf%\n",
      "epoch    2: MSE=1.22326, RMSE=1.10601 =inf%\n",
      "\n",
      "Test\n",
      "\n",
      "### Testing for 35 cases\n",
      "MS error=1.24673, RMS error=1.11657, percentage=inf%\n",
      "\n",
      "\n",
      " Accuracy:  0.4\n",
      "\n",
      "\n",
      "\n",
      "\n",
      "torch.Size([70, 4]) torch.Size([70, 1])\n",
      "\n",
      "Train\n",
      "\n",
      "### Training for 3 epochs, training size = 70 cases\n",
      "epoch    0: MSE=1.55007, RMSE=1.24502 =inf%\n",
      "epoch    1: MSE=1.41709, RMSE=1.19042 =inf%\n",
      "epoch    2: MSE=1.27383, RMSE=1.12864 =inf%\n",
      "\n",
      "Test\n",
      "\n",
      "### Testing for 35 cases\n",
      "MS error=1.47122, RMS error=1.21294, percentage=inf%\n",
      "\n",
      "\n",
      " Accuracy:  0.2\n",
      "\n",
      "\n",
      "\n",
      "\n",
      "torch.Size([70, 4]) torch.Size([70, 1])\n",
      "\n",
      "Train\n",
      "\n",
      "### Training for 3 epochs, training size = 70 cases\n",
      "epoch    0: MSE=1.61425, RMSE=1.27053 =inf%\n",
      "epoch    1: MSE=1.45871, RMSE=1.20777 =inf%\n",
      "epoch    2: MSE=1.28700, RMSE=1.13446 =inf%\n",
      "\n",
      "Test\n",
      "\n",
      "### Testing for 35 cases\n",
      "MS error=1.29680, RMS error=1.13877, percentage=inf%\n",
      "\n",
      "\n",
      " Accuracy:  0.2857142857142857\n",
      "\n",
      "\n",
      "\n",
      "\n",
      "Num mfs:  11 \n",
      "\n",
      "torch.Size([70, 4]) torch.Size([70, 1])\n",
      "\n",
      "Train\n",
      "\n",
      "### Training for 3 epochs, training size = 70 cases\n",
      "epoch    0: MSE=1.70768, RMSE=1.30678 =inf%\n",
      "epoch    1: MSE=1.58461, RMSE=1.25881 =inf%\n",
      "epoch    2: MSE=1.44262, RMSE=1.20109 =inf%\n",
      "\n",
      "Test\n",
      "\n",
      "### Testing for 35 cases\n",
      "MS error=1.41491, RMS error=1.18950, percentage=inf%\n",
      "\n",
      "\n",
      " Accuracy:  0.4\n",
      "\n",
      "\n",
      "\n",
      "\n",
      "torch.Size([70, 4]) torch.Size([70, 1])\n",
      "\n",
      "Train\n",
      "\n",
      "### Training for 3 epochs, training size = 70 cases\n",
      "epoch    0: MSE=1.59764, RMSE=1.26398 =inf%\n",
      "epoch    1: MSE=1.50990, RMSE=1.22878 =inf%\n",
      "epoch    2: MSE=1.41489, RMSE=1.18949 =inf%\n",
      "\n",
      "Test\n",
      "\n",
      "### Testing for 35 cases\n",
      "MS error=1.65981, RMS error=1.28834, percentage=inf%\n",
      "\n",
      "\n",
      " Accuracy:  0.2\n",
      "\n",
      "\n",
      "\n",
      "\n",
      "torch.Size([70, 4]) torch.Size([70, 1])\n",
      "\n",
      "Train\n",
      "\n",
      "### Training for 3 epochs, training size = 70 cases\n",
      "epoch    0: MSE=1.67361, RMSE=1.29368 =inf%\n",
      "epoch    1: MSE=1.57589, RMSE=1.25534 =inf%\n",
      "epoch    2: MSE=1.46987, RMSE=1.21238 =inf%\n",
      "\n",
      "Test\n",
      "\n",
      "### Testing for 35 cases\n",
      "MS error=1.48018, RMS error=1.21663, percentage=inf%\n",
      "\n",
      "\n",
      " Accuracy:  0.2857142857142857\n",
      "\n",
      "\n",
      "\n",
      "\n"
     ]
    }
   ],
   "source": [
    "num_mfs_list = [3, 5, 7, 9, 11]\n",
    "fit_list = []\n",
    "\n",
    "for num_mfs in num_mfs_list:\n",
    "    print('Num mfs: ', num_mfs, '\\n')\n",
    "    acc_list = []\n",
    "    # K-folds\n",
    "    for train_idx, valid_idx in get_folds_indices(X_train, Y_train, K):\n",
    "        \n",
    "        # Splitting and train and validation sets\n",
    "        X_K_train, X_K_valid = X_train[train_idx], X_train[valid_idx]\n",
    "        Y_K_train, Y_K_valid = Y_train[train_idx].unsqueeze(1), Y_train[valid_idx].unsqueeze(1)\n",
    "        \n",
    "        # Converting train data\n",
    "        x_train = TensorDataset(X_K_train, Y_K_train)\n",
    "        train_data = DataLoader(x_train, batch_size)\n",
    "        \n",
    "        # Converting validation data\n",
    "        x_valid = TensorDataset(X_K_valid, Y_K_valid)\n",
    "        valid_data = DataLoader(x_valid, batch_size)\n",
    "        \n",
    "        x_train, y_train = train_data.dataset.tensors\n",
    "        print(x_train.shape, y_train.shape)\n",
    "        \n",
    "        # Gaussiana\n",
    "        print('\\nTrain\\n')\n",
    "        model = make_anfis(x = x_train, num_mfs = num_mfs, num_out = 1, hybrid = False)\n",
    "        model.train(mode = True)\n",
    "        \n",
    "        optimizer = torch.optim.SGD(model.parameters(), lr=1e-2)\n",
    "        criterion = torch.nn.BCEWithLogitsLoss(reduction = 'sum')\n",
    "        experimental.train_anfis_with(model, train_data, optimizer, criterion, 3)  \n",
    "        \n",
    "        \n",
    "        print('\\nTest\\n')\n",
    "        experimental.test_anfis(model, valid_data, show_plots = False)\n",
    "        y_hat_test = model(valid_data.dataset.tensors[0])\n",
    "        \n",
    "        del model\n",
    "           \n",
    "        Y_pred = step(y_hat_test)\n",
    "        acc = accuracy_score(Y_K_valid.detach().numpy(), Y_pred.detach().numpy())\n",
    "        print('\\n\\n Accuracy: ', acc)\n",
    "        acc_list.append(acc)\n",
    "        \n",
    "        print('\\n\\n\\n')\n",
    "    \n",
    "    fit_list.append(np.mean(acc_list))"
   ]
  },
  {
   "cell_type": "code",
   "execution_count": 13,
   "metadata": {},
   "outputs": [
    {
     "data": {
      "image/png": "[encoded data removed]",
      "text/plain": [
       "<Figure size 576x432 with 1 Axes>"
      ]
     },
     "metadata": {
      "needs_background": "light"
     },
     "output_type": "display_data"
    }
   ],
   "source": [
    "plt.figure(figsize=(8,6))\n",
    "plt.plot(num_mfs_list, fit_list, c='blue')\n",
    "plt.title('Acurácia em função do número de funções de pertinência utilizada')\n",
    "plt.xlabel('Número de funções de perticência')\n",
    "plt.ylabel('Acurácia média em K folds')\n",
    "plt.grid()\n",
    "plt.show()"
   ]
  },
  {
   "cell_type": "markdown",
   "metadata": {},
   "source": [
    "A melhor combinação de hiperparâmetros encontrada foi"
   ]
  },
  {
   "cell_type": "code",
   "execution_count": 14,
   "metadata": {},
   "outputs": [
    {
     "name": "stdout",
     "output_type": "stream",
     "text": [
      "Funções de pertinência: 3\n",
      "Acurácia média no conjunto de teste: 0.6476190476190475\n"
     ]
    }
   ],
   "source": [
    "print('Funções de pertinência:', num_mfs_list[np.argmax(fit_list)])\n",
    "print('Acurácia média no conjunto de teste:', np.max(fit_list))"
   ]
  },
  {
   "cell_type": "markdown",
   "metadata": {},
   "source": [
    "Por fim, foi utilizada a melhor combinação de hiperparâmetros em todo o conjunto de treinamento"
   ]
  },
  {
   "cell_type": "code",
   "execution_count": 15,
   "metadata": {},
   "outputs": [
    {
     "name": "stdout",
     "output_type": "stream",
     "text": [
      "\n",
      "Train\n",
      "\n",
      "### Training for 3 epochs, training size = 105 cases\n",
      "epoch    0: MSE=0.13472, RMSE=0.36704 =inf%\n",
      "epoch    1: MSE=4.99692, RMSE=2.23538 =inf%\n",
      "epoch    2: MSE=28.45886, RMSE=5.33468 =inf%\n",
      "\n",
      "Test\n",
      "\n",
      "### Testing for 45 cases\n",
      "MS error=26.24988, RMS error=5.12346, percentage=inf%\n",
      "\n",
      "\n",
      " Accuracy:  0.7111111111111111\n"
     ]
    }
   ],
   "source": [
    "x_train = TensorDataset(X_train, Y_train.unsqueeze(1))\n",
    "train_data = DataLoader(x_train, batch_size)\n",
    "x_train, y_train = train_data.dataset.tensors\n",
    "\n",
    "x_test = TensorDataset(X_test, Y_test.unsqueeze(1))\n",
    "test_data = DataLoader(x_test, batch_size)\n",
    "x_test, y_test = test_data.dataset.tensors\n",
    "\n",
    "# Gaussiana\n",
    "print('\\nTrain\\n')\n",
    "model = make_anfis(x = x_train, num_mfs = num_mfs_list[np.argmax(fit_list)], num_out = 1, hybrid = False)\n",
    "model.train(mode = True)\n",
    "\n",
    "optimizer = torch.optim.SGD(model.parameters(), lr=1e-2)\n",
    "criterion = torch.nn.BCEWithLogitsLoss(reduction = 'sum')\n",
    "experimental.train_anfis_with(model, train_data, optimizer, criterion, 3)  \n",
    "\n",
    "\n",
    "print('\\nTest\\n')\n",
    "experimental.test_anfis(model, test_data, show_plots = False)\n",
    "y_hat_test = model(test_data.dataset.tensors[0])\n",
    "\n",
    "del model\n",
    "\n",
    "Y_pred = step(y_hat_test)\n",
    "acc = accuracy_score(y_test.detach().numpy(), Y_pred.detach().numpy())\n",
    "print('\\n\\n Accuracy: ', acc)"
   ]
  },
  {
   "cell_type": "markdown",
   "metadata": {},
   "source": [
    "## Breast Cancer Dataset"
   ]
  },
  {
   "cell_type": "code",
   "execution_count": 17,
   "metadata": {},
   "outputs": [],
   "source": [
    "K = 5\n",
    "batch_size = 10"
   ]
  },
  {
   "cell_type": "code",
   "execution_count": 18,
   "metadata": {},
   "outputs": [],
   "source": [
    "# Reading data\n",
    "file_path = os.path.abspath('./BreastCancer.csv')\n",
    "data = pd.read_csv(file_path).drop(['id', 'Unnamed: 32'], axis=1)"
   ]
  },
  {
   "cell_type": "markdown",
   "metadata": {},
   "source": [
    "Utilizar todas as 30 features do conjunto de dados do Breast Cancer requer cerca de 124GB de RAM para alocar o tensor 3D (`num_rules` $\\times$ `n_outs` $\\times$ `n_features+1`) de coeficientes do modelo ANFIS, inviabilizando o treinamento da rede na minha máquina. Assim, com o auxílio da matriz de correlações, foram selecionadas apenas algumas features para ajuste do modelo."
   ]
  },
  {
   "cell_type": "code",
   "execution_count": 19,
   "metadata": {},
   "outputs": [
    {
     "data": {
      "image/png": "[encoded data removed]",
      "text/plain": [
       "<Figure size 864x576 with 2 Axes>"
      ]
     },
     "metadata": {
      "needs_background": "light"
     },
     "output_type": "display_data"
    }
   ],
   "source": [
    "data_corr = data.iloc[:, 1:].corr()\n",
    "mask = np.triu(np.ones_like(data_corr, dtype=bool))\n",
    "sns.heatmap(data_corr, mask=mask, annot=False)\n",
    "plt.show()"
   ]
  },
  {
   "cell_type": "markdown",
   "metadata": {},
   "source": [
    "Dentre as 30 features, 10 foram selecionadas:"
   ]
  },
  {
   "cell_type": "code",
   "execution_count": 20,
   "metadata": {},
   "outputs": [],
   "source": [
    "important_features = ['fractal_dimension_mean', 'concave points_mean', 'compactness_mean',\n",
    "                      'radius_se', 'smoothness_se', 'symmetry_se',\n",
    "                      'fractal_dimension_se', 'texture_se', 'concavity_worst']"
   ]
  },
  {
   "cell_type": "code",
   "execution_count": 21,
   "metadata": {},
   "outputs": [
    {
     "name": "stdout",
     "output_type": "stream",
     "text": [
      "X dim: torch.Size([569, 9])\n"
     ]
    }
   ],
   "source": [
    "# Input data (removendo rótulos e pegando as features de interesse)\n",
    "x = data[important_features]\n",
    "X = torch.Tensor(x.to_numpy())\n",
    "\n",
    "print('X dim:', X.shape)"
   ]
  },
  {
   "cell_type": "code",
   "execution_count": 22,
   "metadata": {},
   "outputs": [
    {
     "name": "stdout",
     "output_type": "stream",
     "text": [
      "Y dim: torch.Size([569])\n"
     ]
    }
   ],
   "source": [
    "Y = data['diagnosis'].replace({'M': 0, 'B': 1})\n",
    "\n",
    "Y = torch.Tensor(Y)\n",
    "print('Y dim:', Y.shape)"
   ]
  },
  {
   "cell_type": "markdown",
   "metadata": {},
   "source": [
    "Assim como no problema anterior, o conjunto de dados foi dividido em 70% para o conjunto de treinamento e 30% para teste."
   ]
  },
  {
   "cell_type": "code",
   "execution_count": 23,
   "metadata": {},
   "outputs": [],
   "source": [
    "X_train, X_test, Y_train, Y_test = train_test_split(X, Y, test_size = 0.3, random_state = 42)"
   ]
  },
  {
   "cell_type": "code",
   "execution_count": 24,
   "metadata": {},
   "outputs": [
    {
     "name": "stdout",
     "output_type": "stream",
     "text": [
      "Num mfs:  2 \n",
      "\n",
      "torch.Size([318, 9]) torch.Size([318, 1])\n",
      "\n",
      "Train\n",
      "\n",
      "### Training for 5 epochs, training size = 318 cases\n",
      "epoch    0: MSE=0.30834, RMSE=0.55529 =inf%\n",
      "epoch    1: MSE=0.30209, RMSE=0.54963 =inf%\n",
      "epoch    2: MSE=0.22931, RMSE=0.47886 =inf%\n",
      "epoch    3: MSE=0.71872, RMSE=0.84778 =inf%\n",
      "epoch    4: MSE=0.17449, RMSE=0.41772 =inf%\n",
      "\n",
      "Test\n",
      "\n",
      "### Testing for 80 cases\n",
      "MS error=0.20581, RMS error=0.45366, percentage=inf%\n",
      "\n",
      "\n",
      " Accuracy:  0.825\n",
      "\n",
      "\n",
      "\n",
      "\n",
      "torch.Size([318, 9]) torch.Size([318, 1])\n",
      "\n",
      "Train\n",
      "\n",
      "### Training for 5 epochs, training size = 318 cases\n",
      "epoch    0: MSE=0.54566, RMSE=0.73868 =inf%\n",
      "epoch    1: MSE=0.41104, RMSE=0.64112 =inf%\n",
      "epoch    2: MSE=0.99515, RMSE=0.99757 =inf%\n",
      "epoch    3: MSE=0.35186, RMSE=0.59318 =inf%\n",
      "epoch    4: MSE=0.20666, RMSE=0.45460 =inf%\n",
      "\n",
      "Test\n",
      "\n",
      "### Testing for 80 cases\n",
      "MS error=0.21326, RMS error=0.46180, percentage=inf%\n",
      "\n",
      "\n",
      " Accuracy:  0.625\n",
      "\n",
      "\n",
      "\n",
      "\n",
      "torch.Size([318, 9]) torch.Size([318, 1])\n",
      "\n",
      "Train\n",
      "\n",
      "### Training for 5 epochs, training size = 318 cases\n",
      "epoch    0: MSE=0.47601, RMSE=0.68993 =inf%\n",
      "epoch    1: MSE=0.24983, RMSE=0.49983 =inf%\n",
      "epoch    2: MSE=0.14254, RMSE=0.37755 =inf%\n",
      "epoch    3: MSE=0.24982, RMSE=0.49982 =inf%\n",
      "epoch    4: MSE=0.36674, RMSE=0.60559 =inf%\n",
      "\n",
      "Test\n",
      "\n",
      "### Testing for 80 cases\n",
      "MS error=0.29326, RMS error=0.54153, percentage=inf%\n",
      "\n",
      "\n",
      " Accuracy:  0.8375\n",
      "\n",
      "\n",
      "\n",
      "\n",
      "torch.Size([319, 9]) torch.Size([319, 1])\n",
      "\n",
      "Train\n",
      "\n",
      "### Training for 5 epochs, training size = 319 cases\n",
      "epoch    0: MSE=0.54126, RMSE=0.73571 =inf%\n",
      "epoch    1: MSE=0.40633, RMSE=0.63744 =inf%\n",
      "epoch    2: MSE=0.21536, RMSE=0.46407 =inf%\n",
      "epoch    3: MSE=0.16582, RMSE=0.40721 =inf%\n",
      "epoch    4: MSE=0.42144, RMSE=0.64918 =inf%\n",
      "\n",
      "Test\n",
      "\n",
      "### Testing for 79 cases\n",
      "MS error=0.33254, RMS error=0.57666, percentage=inf%\n",
      "\n",
      "\n",
      " Accuracy:  0.7088607594936709\n",
      "\n",
      "\n",
      "\n",
      "\n",
      "torch.Size([319, 9]) torch.Size([319, 1])\n",
      "\n",
      "Train\n",
      "\n",
      "### Training for 5 epochs, training size = 319 cases\n",
      "epoch    0: MSE=0.33005, RMSE=0.57450 =inf%\n",
      "epoch    1: MSE=0.61326, RMSE=0.78311 =inf%\n",
      "epoch    2: MSE=0.28488, RMSE=0.53374 =inf%\n",
      "epoch    3: MSE=0.27217, RMSE=0.52169 =inf%\n",
      "epoch    4: MSE=0.31356, RMSE=0.55997 =inf%\n",
      "\n",
      "Test\n",
      "\n",
      "### Testing for 79 cases\n",
      "MS error=0.39884, RMS error=0.63154, percentage=inf%\n",
      "\n",
      "\n",
      " Accuracy:  0.810126582278481\n",
      "\n",
      "\n",
      "\n",
      "\n",
      "Num mfs:  3 \n",
      "\n",
      "torch.Size([318, 9]) torch.Size([318, 1])\n",
      "\n",
      "Train\n",
      "\n",
      "### Training for 5 epochs, training size = 318 cases\n",
      "epoch    0: MSE=0.58529, RMSE=0.76504 =inf%\n",
      "epoch    1: MSE=0.51697, RMSE=0.71900 =inf%\n",
      "epoch    2: MSE=0.30059, RMSE=0.54826 =inf%\n",
      "epoch    3: MSE=0.11895, RMSE=0.34489 =inf%\n",
      "epoch    4: MSE=0.14271, RMSE=0.37777 =inf%\n",
      "\n",
      "Test\n",
      "\n",
      "### Testing for 80 cases\n",
      "MS error=0.18197, RMS error=0.42658, percentage=inf%\n",
      "\n",
      "\n",
      " Accuracy:  0.825\n",
      "\n",
      "\n",
      "\n",
      "\n",
      "torch.Size([318, 9]) torch.Size([318, 1])\n",
      "\n",
      "Train\n",
      "\n",
      "### Training for 5 epochs, training size = 318 cases\n",
      "epoch    0: MSE=0.60999, RMSE=0.78102 =inf%\n",
      "epoch    1: MSE=0.54939, RMSE=0.74121 =inf%\n",
      "epoch    2: MSE=0.43290, RMSE=0.65795 =inf%\n",
      "epoch    3: MSE=0.30490, RMSE=0.55218 =inf%\n",
      "epoch    4: MSE=0.23713, RMSE=0.48696 =inf%\n",
      "\n",
      "Test\n",
      "\n",
      "### Testing for 80 cases\n",
      "MS error=0.24531, RMS error=0.49529, percentage=inf%\n",
      "\n",
      "\n",
      " Accuracy:  0.7\n",
      "\n",
      "\n",
      "\n",
      "\n",
      "torch.Size([318, 9]) torch.Size([318, 1])\n",
      "\n",
      "Train\n",
      "\n",
      "### Training for 5 epochs, training size = 318 cases\n",
      "epoch    0: MSE=0.60940, RMSE=0.78064 =inf%\n",
      "epoch    1: MSE=0.57250, RMSE=0.75664 =inf%\n",
      "epoch    2: MSE=0.41474, RMSE=0.64400 =inf%\n",
      "epoch    3: MSE=0.23467, RMSE=0.48442 =inf%\n",
      "epoch    4: MSE=0.12286, RMSE=0.35052 =inf%\n",
      "\n",
      "Test\n",
      "\n",
      "### Testing for 80 cases\n",
      "MS error=0.07576, RMS error=0.27525, percentage=inf%\n",
      "\n",
      "\n",
      " Accuracy:  0.9125\n",
      "\n",
      "\n",
      "\n",
      "\n",
      "torch.Size([319, 9]) torch.Size([319, 1])\n",
      "\n",
      "Train\n",
      "\n",
      "### Training for 5 epochs, training size = 319 cases\n",
      "epoch    0: MSE=0.61904, RMSE=0.78679 =inf%\n",
      "epoch    1: MSE=0.55293, RMSE=0.74359 =inf%\n",
      "epoch    2: MSE=0.34047, RMSE=0.58350 =inf%\n",
      "epoch    3: MSE=0.21267, RMSE=0.46116 =inf%\n",
      "epoch    4: MSE=0.45970, RMSE=0.67801 =inf%\n",
      "\n",
      "Test\n",
      "\n",
      "### Testing for 79 cases\n",
      "MS error=0.39353, RMS error=0.62732, percentage=inf%\n",
      "\n",
      "\n",
      " Accuracy:  0.4430379746835443\n",
      "\n",
      "\n",
      "\n",
      "\n",
      "torch.Size([319, 9]) torch.Size([319, 1])\n",
      "\n",
      "Train\n",
      "\n",
      "### Training for 5 epochs, training size = 319 cases\n",
      "epoch    0: MSE=0.60807, RMSE=0.77979 =inf%\n",
      "epoch    1: MSE=0.51452, RMSE=0.71730 =inf%\n",
      "epoch    2: MSE=0.61195, RMSE=0.78227 =inf%\n",
      "epoch    3: MSE=0.32127, RMSE=0.56680 =inf%\n",
      "epoch    4: MSE=0.17136, RMSE=0.41396 =inf%\n",
      "\n",
      "Test\n",
      "\n",
      "### Testing for 79 cases\n",
      "MS error=0.21955, RMS error=0.46856, percentage=inf%\n",
      "\n",
      "\n",
      " Accuracy:  0.7974683544303798\n",
      "\n",
      "\n",
      "\n",
      "\n"
     ]
    }
   ],
   "source": [
    "num_mfs_list = [2, 3]\n",
    "fit_list = []\n",
    "\n",
    "for num_mfs in num_mfs_list:\n",
    "    print('Num mfs: ', num_mfs, '\\n')\n",
    "    acc_list = []\n",
    "    # K-folds\n",
    "    for train_idx, valid_idx in get_folds_indices(X_train, Y_train, K):\n",
    "        \n",
    "        # Splitting and train and validation sets\n",
    "        X_K_train, X_K_valid = X_train[train_idx], X_train[valid_idx]\n",
    "        Y_K_train, Y_K_valid = Y_train[train_idx].unsqueeze(1), Y_train[valid_idx].unsqueeze(1)\n",
    "        \n",
    "        # Converting train data\n",
    "        x_train = TensorDataset(X_K_train, Y_K_train)\n",
    "        train_data = DataLoader(x_train, batch_size)\n",
    "        \n",
    "        # Converting validation data\n",
    "        x_valid = TensorDataset(X_K_valid, Y_K_valid)\n",
    "        valid_data = DataLoader(x_valid, batch_size)\n",
    "        \n",
    "        x_train, y_train = train_data.dataset.tensors\n",
    "        print(x_train.shape, y_train.shape)\n",
    "        \n",
    "        # Gaussiana\n",
    "        print('\\nTrain\\n')\n",
    "        model = make_anfis(x = x_train, num_mfs = num_mfs, num_out = 1, hybrid = False)\n",
    "        model.train(mode = True)\n",
    "        \n",
    "        optimizer = torch.optim.SGD(model.parameters(), lr=1e-2)\n",
    "        criterion = torch.nn.BCEWithLogitsLoss(reduction = 'sum')\n",
    "        experimental.train_anfis_with(model, train_data, optimizer, criterion, 5)\n",
    "        \n",
    "        \n",
    "        print('\\nTest\\n')\n",
    "        experimental.test_anfis(model, valid_data, show_plots = False)\n",
    "        y_hat_test = model(valid_data.dataset.tensors[0])\n",
    "        \n",
    "        del model\n",
    "           \n",
    "        Y_pred = step(y_hat_test)\n",
    "        acc = accuracy_score(Y_K_valid.detach().numpy(), Y_pred.detach().numpy())\n",
    "        print('\\n\\n Accuracy: ', acc)\n",
    "        acc_list.append(acc)\n",
    "        \n",
    "        print('\\n\\n\\n')\n",
    "    \n",
    "    fit_list.append(np.mean(acc_list))"
   ]
  },
  {
   "cell_type": "code",
   "execution_count": 25,
   "metadata": {},
   "outputs": [
    {
     "data": {
      "image/png": "[encoded data removed]",
      "text/plain": [
       "<Figure size 576x432 with 1 Axes>"
      ]
     },
     "metadata": {
      "needs_background": "light"
     },
     "output_type": "display_data"
    }
   ],
   "source": [
    "plt.figure(figsize=(8,6))\n",
    "plt.plot(num_mfs_list, fit_list, c='blue')\n",
    "plt.title('Acurácia em função do número de funções de pertinência utilizada')\n",
    "plt.xlabel('Número de funções de perticência')\n",
    "plt.ylabel('Acurácia média em K folds')\n",
    "plt.grid()\n",
    "plt.show()"
   ]
  },
  {
   "cell_type": "code",
   "execution_count": 26,
   "metadata": {},
   "outputs": [
    {
     "name": "stdout",
     "output_type": "stream",
     "text": [
      "Funções de pertinência: 2\n",
      "Acurácia média: 0.7612974683544304\n"
     ]
    }
   ],
   "source": [
    "print('Funções de pertinência:', num_mfs_list[np.argmax(fit_list)])\n",
    "print('Acurácia média:', np.max(fit_list))"
   ]
  },
  {
   "cell_type": "markdown",
   "metadata": {},
   "source": [
    "Por fim, foi utilizada a melhor combinação de hiperparâmetros em todo o conjunto de treinamento"
   ]
  },
  {
   "cell_type": "code",
   "execution_count": 27,
   "metadata": {},
   "outputs": [
    {
     "name": "stdout",
     "output_type": "stream",
     "text": [
      "\n",
      "Train\n",
      "\n",
      "### Training for 5 epochs, training size = 398 cases\n",
      "epoch    0: MSE=0.46592, RMSE=0.68258 =inf%\n",
      "epoch    1: MSE=0.25526, RMSE=0.50523 =inf%\n",
      "epoch    2: MSE=0.19698, RMSE=0.44382 =inf%\n",
      "epoch    3: MSE=0.22666, RMSE=0.47609 =inf%\n",
      "epoch    4: MSE=0.29076, RMSE=0.53922 =inf%\n",
      "\n",
      "Test\n",
      "\n",
      "### Testing for 171 cases\n",
      "MS error=0.29078, RMS error=0.53924, percentage=inf%\n",
      "\n",
      "\n",
      " Accuracy:  0.7251461988304093\n"
     ]
    }
   ],
   "source": [
    "x_train = TensorDataset(X_train, Y_train.unsqueeze(1))\n",
    "train_data = DataLoader(x_train, batch_size)\n",
    "x_train, y_train = train_data.dataset.tensors\n",
    "\n",
    "x_test = TensorDataset(X_test, Y_test.unsqueeze(1))\n",
    "test_data = DataLoader(x_test, batch_size)\n",
    "x_test, y_test = test_data.dataset.tensors\n",
    "\n",
    "# Gaussiana\n",
    "print('\\nTrain\\n')\n",
    "model = make_anfis(x = x_train, num_mfs = num_mfs_list[np.argmax(fit_list)], num_out = 1, hybrid = False)\n",
    "model.train(mode = True)\n",
    "\n",
    "optimizer = torch.optim.SGD(model.parameters(), lr=1e-2)\n",
    "criterion = torch.nn.BCEWithLogitsLoss(reduction = 'sum')\n",
    "experimental.train_anfis_with(model, train_data, optimizer, criterion, 5)      \n",
    "\n",
    "\n",
    "print('\\nTest\\n')\n",
    "experimental.test_anfis(model, test_data, show_plots = False)\n",
    "y_hat_test = model(test_data.dataset.tensors[0])\n",
    "\n",
    "del model\n",
    "\n",
    "Y_pred = step(y_hat_test)\n",
    "acc = accuracy_score(y_test.detach().numpy(), Y_pred.detach().numpy())\n",
    "print('\\n\\n Accuracy: ', acc)"
   ]
  }
 ],
 "metadata": {
  "kernelspec": {
   "display_name": "python 3.7",
   "language": "python",
   "name": "enacom"
  },
  "language_info": {
   "codemirror_mode": {
    "name": "ipython",
    "version": 3
   },
   "file_extension": ".py",
   "mimetype": "text/x-python",
   "name": "python",
   "nbconvert_exporter": "python",
   "pygments_lexer": "ipython3",
   "version": "3.7.9"
  }
 },
 "nbformat": 4,
 "nbformat_minor": 4
}
